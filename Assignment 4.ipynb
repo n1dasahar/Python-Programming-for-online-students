{
 "cells": [
  {
   "cell_type": "markdown",
   "metadata": {},
   "source": [
    "Use a dictionary to store information about a person you know. Store their first name, last name, age\n",
    "and the city in which they live. You should have keys such as first_name, last_name, age, and city. Print\n",
    "each piece of information stored in your dictionary. Add a new key value pair about qualification then\n",
    "update the qualification value to high academic level then delete it."
   ]
  },
  {
   "cell_type": "code",
   "execution_count": 1,
   "metadata": {},
   "outputs": [
    {
     "name": "stdout",
     "output_type": "stream",
     "text": [
      "{'first name': 'Nida', 'last name': 'Sahar', 'age': 20, 'city': 'Karachi'}\n",
      "{'first name': 'Nida', 'last name': 'Sahar', 'age': 20, 'city': 'Karachi', 'qualification': 'To be updated'}\n",
      "{'first name': 'Nida', 'last name': 'Sahar', 'age': 20, 'city': 'Karachi', 'qualification': 'higher academic level'}\n",
      "{'first name': 'Nida', 'last name': 'Sahar', 'age': 20, 'city': 'Karachi'}\n"
     ]
    }
   ],
   "source": [
    "myinfo = { \n",
    "    \"first name\": \"Nida\",\n",
    "    \"last name\" : \"Sahar\",\n",
    "    \"age\"           : 20,\n",
    "    \"city\"          : \"Karachi\"\n",
    "}\n",
    "\n",
    "print(myinfo)\n",
    "\n",
    "myinfo[\"qualification\"] = \"To be updated\"\n",
    "print(myinfo)\n",
    "\n",
    "myinfo[\"qualification\"]= \"higher academic level\"\n",
    "print(myinfo)\n",
    "\n",
    "del myinfo[\"qualification\"]\n",
    "print(myinfo)"
   ]
  },
  {
   "cell_type": "markdown",
   "metadata": {},
   "source": [
    "Q2: Make a dictionary called cities. Use the names of three cities as keys in your dictionary. Create a dictionary of information about each city and include the country that the city is in, its approximate population, and one fact about that city. The keys for each city’s dictionary should be something like country, population, and fact. Print the name of each city and all of the information you have stored about it."
   ]
  },
  {
   "cell_type": "code",
   "execution_count": 3,
   "metadata": {},
   "outputs": [
    {
     "name": "stdout",
     "output_type": "stream",
     "text": [
      "{'country': 'Pakistan', 'population': 12000, 'fact': 'There are so many education sectors !'}\n",
      "{'country': 'France', 'population': 199000, 'fact': 'It is also called country of perfumes !'}\n",
      "{'country': 'India', 'population': 145000, 'fact': 'It is technology hub !'}\n"
     ]
    }
   ],
   "source": [
    "cities = {\n",
    "    \"Karachi\" : {\"country\"      : \"Pakistan\" ,\n",
    "                              \"population\" : 12000,\n",
    "                              \"fact\"            : \"There are so many education sectors !\"},\n",
    "    \n",
    "    \"Paris\"           : {\"country\"      : \"France\" ,\n",
    "                              \"population\" : 199000,\n",
    "                              \"fact\"            : \"It is also called country of perfumes !\"},\n",
    "    \n",
    "    \"Pona\"    : {\"country\"      : \"India\" ,\n",
    "                              \"population\" : 145000,\n",
    "                              \"fact\"            : \"It is technology hub !\"}\n",
    "}\n",
    "\n",
    "print(cities[\"Karachi\"])\n",
    "print(cities[\"Paris\"])\n",
    "print(cities[\"Pona\"])"
   ]
  },
  {
   "cell_type": "markdown",
   "metadata": {},
   "source": [
    "Q3: A movie theater charges different ticket prices depending on a person’s age. If a person is under the age of 3, the ticket is free; if they are between 3 and 12, the ticket is 10 dollars; and if they are over age 12, the ticket is 15 dollars. Write a loop in which you ask users their age, and then tell them the cost of their movie ticket."
   ]
  },
  {
   "cell_type": "code",
   "execution_count": null,
   "metadata": {},
   "outputs": [
    {
     "name": "stdout",
     "output_type": "stream",
     "text": [
      "\n",
      "Enter your age or 'q' to stop asking :12\n",
      "Your ticket is $10 !\n",
      "\n",
      "Enter your age or 'q' to stop asking :12\n",
      "Your ticket is $10 !\n",
      "\n",
      "Enter your age or 'q' to stop asking :12\n",
      "Your ticket is $10 !\n",
      "\n",
      "Enter your age or 'q' to stop asking :1112\n",
      "Your ticket is $15 !\n",
      "\n",
      "Enter your age or 'q' to stop asking :1\n",
      "Your ticket is free !\n",
      "\n",
      "Enter your age or 'q' to stop asking :1\n",
      "Your ticket is free !\n",
      "\n",
      "Enter your age or 'q' to stop asking :21\n",
      "Your ticket is $15 !\n",
      "\n",
      "Enter your age or 'q' to stop asking :21\n",
      "Your ticket is $15 !\n",
      "\n",
      "Enter your age or 'q' to stop asking :2\n",
      "Your ticket is free !\n",
      "\n",
      "Enter your age or 'q' to stop asking :12\n",
      "Your ticket is $10 !\n",
      "\n",
      "Enter your age or 'q' to stop asking :1\n",
      "Your ticket is free !\n",
      "\n",
      "Enter your age or 'q' to stop asking :2\n",
      "Your ticket is free !\n",
      "\n",
      "Enter your age or 'q' to stop asking :2\n",
      "Your ticket is free !\n",
      "\n",
      "Enter your age or 'q' to stop asking :12\n",
      "Your ticket is $10 !\n",
      "\n",
      "Enter your age or 'q' to stop asking :1\n",
      "Your ticket is free !\n",
      "\n",
      "Enter your age or 'q' to stop asking :21\n",
      "Your ticket is $15 !\n",
      "\n",
      "Enter your age or 'q' to stop asking :1\n",
      "Your ticket is free !\n",
      "\n",
      "Enter your age or 'q' to stop asking :12\n",
      "Your ticket is $10 !\n",
      "\n",
      "Enter your age or 'q' to stop asking :21\n",
      "Your ticket is $15 !\n",
      "\n",
      "Enter your age or 'q' to stop asking :12\n",
      "Your ticket is $10 !\n",
      "\n",
      "Enter your age or 'q' to stop asking :12\n",
      "Your ticket is $10 !\n",
      "\n",
      "Enter your age or 'q' to stop asking :11\n",
      "Your ticket is $10 !\n"
     ]
    }
   ],
   "source": [
    "flag = True\n",
    "while flag:\n",
    "    age = input(\"\\nEnter your age or 'q' to stop asking :\")\n",
    "    \n",
    "    if age.lower() == 'q':\n",
    "        flag = False\n",
    "    else:\n",
    "        int_age = int(age)\n",
    "        if int_age < 3:\n",
    "            print(\"Your ticket is free !\")\n",
    "        elif int_age >=3 and int_age <=12:\n",
    "            print(\"Your ticket is $10 !\")\n",
    "        elif int_age > 12:\n",
    "            print(\"Your ticket is $15 !\")"
   ]
  },
  {
   "cell_type": "markdown",
   "metadata": {},
   "source": [
    "Q4: Write a function called favorite_book() that accepts one parameter, title. The function should print a message, such as One of my favorite books is Alice in Wonderland. Call the function, making sure to include a book title as an argument in the function call."
   ]
  },
  {
   "cell_type": "code",
   "execution_count": 1,
   "metadata": {},
   "outputs": [
    {
     "name": "stdout",
     "output_type": "stream",
     "text": [
      "One of my favorite books is 'Alice in Wonderland'.\n",
      "One of my favorite books is 'You can win '.\n"
     ]
    }
   ],
   "source": [
    "def favorite_book(title):\n",
    "    print(f\"One of my favorite books is '{title}'.\")\n",
    "    \n",
    "favorite_book(\"Alice in Wonderland\")\n",
    "favorite_book(\"You can win \")"
   ]
  },
  {
   "cell_type": "markdown",
   "metadata": {},
   "source": [
    "Q5:Write a program which randomly generate a number between 1 to 30 and ask the user in input field to guess the correct number. Give three chances to user guess the number and also give hint to user if hidden number is greater or smaller than the number he given to input field."
   ]
  },
  {
   "cell_type": "code",
   "execution_count": null,
   "metadata": {},
   "outputs": [
    {
     "name": "stdout",
     "output_type": "stream",
     "text": [
      "\n",
      "\tYou have 3 chances to guess the hidden number (from 1 to 30): 5\n",
      "\tYour guess is greater than the hidden number !\n",
      "\n",
      "\tYou have 2 chances to guess the hidden number (from 1 to 30): 9\n",
      "\tYour guess is greater than the hidden number !\n"
     ]
    }
   ],
   "source": [
    "import random as rd\n",
    "i = 3\n",
    "while i > 0:\n",
    "    correct_num = rd.randint(1,30)\n",
    "    user_num = int(input(f\"\\n\\tYou have {i} chances to guess the hidden number (from 1 to 30): \"))\n",
    "    \n",
    "    if user_num == correct_num:\n",
    "        print(\"\\t***Congrats ! Correct Guess, You Won*** :)\")\n",
    "        break\n",
    "    elif user_num > correct_num:\n",
    "        print(\"\\tYour guess is greater than the hidden number !\")\n",
    "        i -= 1\n",
    "    elif user_num < correct_num:\n",
    "        print(\"\\tYour guess is less than the hidden number !\")\n",
    "        i-=1\n",
    "    elif user_num < 1 or user_num > 30:\n",
    "        print(\"\\tPlease enter number in range 1 to 30 !\")\n",
    "        \n",
    "if i == 0:\n",
    "    print(f\"\\n\\tYou Lost ! :(  Hidden Number was {correct_num}\")"
   ]
  },
  {
   "cell_type": "code",
   "execution_count": null,
   "metadata": {},
   "outputs": [],
   "source": []
  }
 ],
 "metadata": {
  "kernelspec": {
   "display_name": "Python 3",
   "language": "python",
   "name": "python3"
  },
  "language_info": {
   "codemirror_mode": {
    "name": "ipython",
    "version": 3
   },
   "file_extension": ".py",
   "mimetype": "text/x-python",
   "name": "python",
   "nbconvert_exporter": "python",
   "pygments_lexer": "ipython3",
   "version": "3.7.1"
  }
 },
 "nbformat": 4,
 "nbformat_minor": 2
}
