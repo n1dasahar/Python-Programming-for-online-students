{
 "cells": [
  {
   "cell_type": "code",
   "execution_count": 5,
   "metadata": {},
   "outputs": [
    {
     "name": "stdout",
     "output_type": "stream",
     "text": [
      "Enter Value 1: 1\n",
      "Enter Value 2: 2\n",
      "Enter Operator+\n",
      "answer 3\n"
     ]
    }
   ],
   "source": [
    "#Make a calculator using Python with addition , subtraction , multiplication ,division\n",
    "val1=input('Enter Value 1: ')\n",
    "val2=input('Enter Value 2: ')\n",
    "val1=int(val1)\n",
    "val2=int(val2)\n",
    "op= input('Enter Operator')\n",
    "if op == '+':\n",
    "           val=val1 + val2\n",
    "           print('answer',val)\n",
    "elif op =='-':\n",
    "           val=val1-val2\n",
    "           print('answer',val)\n",
    "elif op =='/':\n",
    "           val=val1/val2\n",
    "           print('answer',val)\n",
    "elif op =='*':\n",
    "    val=val1 * val2\n",
    "    print('answer',val)\n",
    "else:\n",
    "           print('enter values are incorrect')"
   ]
  },
  {
   "cell_type": "code",
   "execution_count": 3,
   "metadata": {},
   "outputs": [
    {
     "name": "stdout",
     "output_type": "stream",
     "text": [
      "not exist\n",
      "not exist\n",
      "not exist\n",
      "not exist\n",
      "not exist\n",
      "Element Exists\n"
     ]
    }
   ],
   "source": [
    "#Write a program to check if there is any numeric value in list using for loop\n",
    "test_list = [ 1, 6, 3, 5, 3, 4 ] \n",
    "for i in test_list: \n",
    "    if(i == 4) : \n",
    "        print (\"Element Exists\")\n",
    "    else:\n",
    "        print ('not exist')"
   ]
  },
  {
   "cell_type": "code",
   "execution_count": 4,
   "metadata": {},
   "outputs": [
    {
     "name": "stdout",
     "output_type": "stream",
     "text": [
      "{0: 10, 1: 20}\n",
      "{0: 10, 1: 20, 2: 30}\n"
     ]
    }
   ],
   "source": [
    "#Write a Python script to add a key to a dictionary\n",
    "d = {0:10, 1:20}\n",
    "print(d)\n",
    "d.update({2:30})\n",
    "print(d)"
   ]
  },
  {
   "cell_type": "code",
   "execution_count": 6,
   "metadata": {},
   "outputs": [
    {
     "name": "stdout",
     "output_type": "stream",
     "text": [
      "293\n"
     ]
    }
   ],
   "source": [
    "#Write a Python program to sum all the numeric items in a dictionary\n",
    "my_dict = {'data1':100,'data2':-54,'data3':247}\n",
    "print(sum(my_dict.values()))"
   ]
  },
  {
   "cell_type": "code",
   "execution_count": 7,
   "metadata": {},
   "outputs": [
    {
     "name": "stdout",
     "output_type": "stream",
     "text": [
      "{40, 10, 80, 50, 20, 60, 30}\n"
     ]
    }
   ],
   "source": [
    "#Write a program to identify duplicate values from list\n",
    "a = [10,20,30,20,10,50,60,40,80,50,40]\n",
    "\n",
    "dup_items = set()\n",
    "uniq_items = []\n",
    "for x in a:\n",
    "    if x not in dup_items:\n",
    "        uniq_items.append(x)\n",
    "        dup_items.add(x)\n",
    "\n",
    "print(dup_items)\n"
   ]
  },
  {
   "cell_type": "code",
   "execution_count": 8,
   "metadata": {},
   "outputs": [
    {
     "name": "stdout",
     "output_type": "stream",
     "text": [
      "Key is present in the dictionary\n",
      "Key is not present in the dictionary\n"
     ]
    }
   ],
   "source": [
    "#Write a Python script to check if a given key already exists in a dictionary\n",
    "d = {1: 10, 2: 20, 3: 30, 4: 40, 5: 50, 6: 60}\n",
    "def is_key_present(x):\n",
    "  if x in d:\n",
    "      print('Key is present in the dictionary')\n",
    "  else:\n",
    "      print('Key is not present in the dictionary')\n",
    "is_key_present(5)\n",
    "is_key_present(9)\n"
   ]
  },
  {
   "cell_type": "code",
   "execution_count": null,
   "metadata": {},
   "outputs": [],
   "source": []
  }
 ],
 "metadata": {
  "kernelspec": {
   "display_name": "Python 3",
   "language": "python",
   "name": "python3"
  },
  "language_info": {
   "codemirror_mode": {
    "name": "ipython",
    "version": 3
   },
   "file_extension": ".py",
   "mimetype": "text/x-python",
   "name": "python",
   "nbconvert_exporter": "python",
   "pygments_lexer": "ipython3",
   "version": "3.7.1"
  }
 },
 "nbformat": 4,
 "nbformat_minor": 2
}
